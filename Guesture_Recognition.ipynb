{
 "cells": [
  {
   "cell_type": "markdown",
   "metadata": {},
   "source": [
    "# Gesture Recognition\n",
    "In this group project, you are going to build a 3D Conv model that will be able to predict the 5 gestures correctly. Please import the following libraries to get started."
   ]
  },
  {
   "cell_type": "code",
   "execution_count": 8,
   "metadata": {},
   "outputs": [],
   "source": [
    "import numpy as np\n",
    "import os\n",
    "from cv2 import imread,resize,split\n",
    "import datetime\n",
    "import os"
   ]
  },
  {
   "cell_type": "markdown",
   "metadata": {},
   "source": [
    "We set the random seed so that the results don't vary drastically."
   ]
  },
  {
   "cell_type": "code",
   "execution_count": 9,
   "metadata": {},
   "outputs": [
    {
     "name": "stderr",
     "output_type": "stream",
     "text": [
      "Using TensorFlow backend.\n"
     ]
    }
   ],
   "source": [
    "np.random.seed(30)\n",
    "import random as rn\n",
    "rn.seed(30)\n",
    "from keras import backend as K\n",
    "import tensorflow as tf\n",
    "tf.set_random_seed(30)"
   ]
  },
  {
   "cell_type": "markdown",
   "metadata": {},
   "source": [
    "In this block, you read the folder names for training and validation. You also set the `batch_size` here. Note that you set the batch size in such a way that you are able to use the GPU in full capacity. You keep increasing the batch size until the machine throws an error."
   ]
  },
  {
   "cell_type": "code",
   "execution_count": 10,
   "metadata": {},
   "outputs": [],
   "source": [
    "train_doc = np.random.permutation(open('Project_data/train.csv').readlines())\n",
    "val_doc = np.random.permutation(open('Project_data/val.csv').readlines())\n",
    "batch_size = 32 #experiment with the batch size"
   ]
  },
  {
   "cell_type": "markdown",
   "metadata": {},
   "source": [
    "## Generator\n",
    "This is one of the most important part of the code. The overall structure of the generator has been given. In the generator, you are going to preprocess the images as you have images of 2 different dimensions as well as create a batch of video frames. You have to experiment with `img_idx`, `y`,`z` and normalization such that you get high accuracy."
   ]
  },
  {
   "cell_type": "code",
   "execution_count": 11,
   "metadata": {},
   "outputs": [],
   "source": [
    "from keras.preprocessing.image import ImageDataGenerator\n",
    "train_datagen = ImageDataGenerator(\n",
    "        \n",
    "        shear_range=0.5,\n",
    "        zoom_range=0.5,\n",
    "        rotation_range=20,\n",
    "        width_shift_range=0.4,\n",
    "        height_shift_range=0.4\n",
    "        )"
   ]
  },
  {
   "cell_type": "code",
   "execution_count": 12,
   "metadata": {},
   "outputs": [],
   "source": [
    "def generator(source_path, folder_list, batch_size,percentage_data,train = False):\n",
    "    print( 'Source path = ', source_path, '; batch size =', batch_size)\n",
    "    folder_list = folder_list[:int(percentage_data*len(folder_list))]\n",
    "    img_idx = [i for i in range(30)if i%2 == 0]#create a list of image numbers you want to use for a particular video\n",
    "    while True:\n",
    "        t = np.random.permutation(folder_list)        \n",
    "        num_batches = int(len(folder_list)/batch_size) \n",
    "        #print(\"Number batches {}\" .format(num_batches))\n",
    "        remaining_folders = len(folder_list) - num_batches*batch_size\n",
    "        #print(len(folder_list))\n",
    "        for batch in range(num_batches): # we iterate over the number of batches            \n",
    "            batch_data = np.zeros((batch_size,len(img_idx),100,100,3)) # x is the number of images you use for each video, (y,z) is the final size of the input images and 3 is the number of channels RGB\n",
    "            batch_labels = np.zeros((batch_size,5)) # batch_labels is the one hot representation of the output\n",
    "            for folder in range(batch_size): # iterate over the batch_size               \n",
    "                if train and np.random.randn(1)[0] > 0:\n",
    "                    augmentation = True\n",
    "                    #print(\"Augmenting this video\")\n",
    "                    transform_parameters = train_datagen.get_random_transform((100,100), seed=None)\n",
    "                    \n",
    "                else:\n",
    "                    #print(\"Not augmenting\")\n",
    "                    augmentation = False\n",
    "                imgs = os.listdir(source_path+'/'+ t[folder + (batch*batch_size)].split(';')[0]) # read all the images in the folder\n",
    "    \n",
    "                for idx,item in enumerate(img_idx): #  Iterate iver the frames/images of a folder to read them in\n",
    "\n",
    "                    image = imread(source_path+'/'+ t[folder + (batch*batch_size)].strip().split(';')[0]+'/'+imgs[item]).astype(np.float32)\n",
    "                    \n",
    "                    w,h,c = image.shape \n",
    "                    image = image[int((w/2-0.4*w)):int((w/2+0.4*w)) ,int((h/2-0.4*h)):int((h/2+0.4*h))]\n",
    "                    image = resize(image,(100,100))\n",
    "                    if augmentation:\n",
    "                        #print(transform_parameters)\n",
    "                        image = train_datagen.apply_transform(image, transform_parameters)\n",
    "                        \n",
    "#                     if train and np.random.randn(1)[0] > 0:\n",
    "#                         image = train_datagen.random_transform(image)\n",
    "                    b, g, r = split(image)\n",
    "                    batch_data[folder,idx,:,:,0] =   (b - np.percentile(b,5)) / (np.percentile(b,95) - np.percentile(b,5))\n",
    "                    batch_data[folder,idx,:,:,1] =   (g - np.percentile(g,5)) / (np.percentile(g,95) - np.percentile(g,5))\n",
    "                    batch_data[folder,idx,:,:,2] =   (r - np.percentile(r,5)) / (np.percentile(r,95) - np.percentile(r,5))\n",
    "\n",
    "                batch_labels[folder, int(t[folder + (batch*batch_size)].strip().split(';')[2])] = 1\n",
    "            yield batch_data, batch_labels #you yield the batch_data and the batch_labels, remember what does yield do\n",
    "\n",
    "        \n",
    "        if remaining_folders!=0:\n",
    "            print(\"Remaining folders are {}\" .format(remaining_folders))\n",
    "            for folder in range(remaining_folders):\n",
    "                imgs = os.listdir(source_path + '/' + t[folder + (batch_size*num_batches)].split(';')[0])\n",
    "                remaining_data = np.zeros((remaining_folders,len(img_idx),100,100,3))\n",
    "                remaining_labels = np.zeros((remaining_folders,5))\n",
    "                for idx,item in enumerate(img_idx): #  Iterate iver the frames/images of a folder to read them in\n",
    "\n",
    "                    image = imread(source_path+'/'+ t[folder + (num_batches*batch_size)].strip().split(';')[0]+'/'+imgs[item]).astype(np.float32)\n",
    "\n",
    "                    w,h,c = image.shape\n",
    "                    image = image[int((w/2-0.4*w)):int((w/2+0.4*w)) ,int((h/2-0.4*h)):int((h/2+0.4*h))]\n",
    "                    image = resize(image,(100,100))\n",
    "#                     if augmentation:\n",
    "#                         #print(transform_parameters)\n",
    "#                         image = train_datagen.apply_transform(image, transform_parameters)\n",
    "                    \n",
    "                    #crop the images and resize them. Note that the images are of 2 different shape \n",
    "                    #and the conv3D will throw error if the inputs in a batch have different shapes\n",
    "                    b, g, r = split(image)\n",
    "\n",
    "                    remaining_data[folder,idx,:,:,0] = (b - np.percentile(b,5)) / (np.percentile(b,95) - np.percentile(b,5))\n",
    "                    remaining_data[folder,idx,:,:,1] = (g - np.percentile(g,5)) / (np.percentile(g,95) - np.percentile(g,5))\n",
    "                    remaining_data[folder,idx,:,:,2] = (r - np.percentile(r,5)) / (np.percentile(r,95) - np.percentile(r,5))\n",
    "\n",
    "\n",
    "                remaining_labels[folder, int(t[folder + (num_batches*batch_size)].strip().split(';')[2])] = 1\n",
    "\n",
    "            yield remaining_data, remaining_labels\n",
    "        # write the code for the remaining data points which are left after full batches\n"
   ]
  },
  {
   "cell_type": "markdown",
   "metadata": {},
   "source": [
    "Note here that a video is represented above in the generator as (number of images, height, width, number of channels). Take this into consideration while creating the model architecture."
   ]
  },
  {
   "cell_type": "code",
   "execution_count": 13,
   "metadata": {},
   "outputs": [
    {
     "name": "stdout",
     "output_type": "stream",
     "text": [
      "# training sequences = 663\n",
      "# validation sequences = 100\n",
      "# epochs = 70\n"
     ]
    }
   ],
   "source": [
    "curr_dt_time = datetime.datetime.now()\n",
    "train_path = 'Project_data/train'\n",
    "val_path = 'Project_data/val'\n",
    "num_train_sequences = int(len(train_doc))\n",
    "print('# training sequences =', num_train_sequences)\n",
    "num_val_sequences = int(len(val_doc))\n",
    "print('# validation sequences =', num_val_sequences)\n",
    "num_epochs = 70 # choose the number of epochs\n",
    "print ('# epochs =', num_epochs)"
   ]
  },
  {
   "cell_type": "code",
   "execution_count": 14,
   "metadata": {},
   "outputs": [],
   "source": [
    "train_generator = generator(train_path, train_doc, batch_size,1,True)\n",
    "val_generator = generator(val_path, val_doc, batch_size,1)"
   ]
  },
  {
   "cell_type": "code",
   "execution_count": 15,
   "metadata": {},
   "outputs": [
    {
     "name": "stdout",
     "output_type": "stream",
     "text": [
      "Source path =  Project_data/train ; batch size = 32\n",
      "(32, 15, 100, 100, 3) (32, 5)\n"
     ]
    }
   ],
   "source": [
    "array,labels = train_generator.__next__()\n",
    "print(array.shape ,labels.shape)"
   ]
  },
  {
   "cell_type": "markdown",
   "metadata": {},
   "source": [
    "## Model\n",
    "Here you make the model using different functionalities that Keras provides. Remember to use `Conv3D` and `MaxPooling3D` and not `Conv2D` and `Maxpooling2D` for a 3D convolution model. You would want to use `TimeDistributed` while building a Conv2D + RNN model. Also remember that the last layer is the softmax. Design the network in such a way that the model is able to give good accuracy on the least number of parameters so that it can fit in the memory of the webcam."
   ]
  },
  {
   "cell_type": "code",
   "execution_count": 16,
   "metadata": {},
   "outputs": [
    {
     "name": "stdout",
     "output_type": "stream",
     "text": [
      "_________________________________________________________________\n",
      "Layer (type)                 Output Shape              Param #   \n",
      "=================================================================\n",
      "conv3d_1 (Conv3D)            (None, 15, 100, 100, 8)   656       \n",
      "_________________________________________________________________\n",
      "batch_normalization_1 (Batch (None, 15, 100, 100, 8)   32        \n",
      "_________________________________________________________________\n",
      "activation_1 (Activation)    (None, 15, 100, 100, 8)   0         \n",
      "_________________________________________________________________\n",
      "max_pooling3d_1 (MaxPooling3 (None, 14, 50, 50, 8)     0         \n",
      "_________________________________________________________________\n",
      "dropout_1 (Dropout)          (None, 14, 50, 50, 8)     0         \n",
      "_________________________________________________________________\n",
      "conv3d_2 (Conv3D)            (None, 14, 50, 50, 16)    3472      \n",
      "_________________________________________________________________\n",
      "batch_normalization_2 (Batch (None, 14, 50, 50, 16)    64        \n",
      "_________________________________________________________________\n",
      "activation_2 (Activation)    (None, 14, 50, 50, 16)    0         \n",
      "_________________________________________________________________\n",
      "max_pooling3d_2 (MaxPooling3 (None, 13, 25, 25, 16)    0         \n",
      "_________________________________________________________________\n",
      "dropout_2 (Dropout)          (None, 13, 25, 25, 16)    0         \n",
      "_________________________________________________________________\n",
      "conv3d_3 (Conv3D)            (None, 13, 25, 25, 32)    13856     \n",
      "_________________________________________________________________\n",
      "batch_normalization_3 (Batch (None, 13, 25, 25, 32)    128       \n",
      "_________________________________________________________________\n",
      "activation_3 (Activation)    (None, 13, 25, 25, 32)    0         \n",
      "_________________________________________________________________\n",
      "dropout_3 (Dropout)          (None, 13, 25, 25, 32)    0         \n",
      "_________________________________________________________________\n",
      "conv3d_4 (Conv3D)            (None, 13, 25, 25, 64)    55360     \n",
      "_________________________________________________________________\n",
      "batch_normalization_4 (Batch (None, 13, 25, 25, 64)    256       \n",
      "_________________________________________________________________\n",
      "activation_4 (Activation)    (None, 13, 25, 25, 64)    0         \n",
      "_________________________________________________________________\n",
      "max_pooling3d_3 (MaxPooling3 (None, 11, 12, 12, 64)    0         \n",
      "_________________________________________________________________\n",
      "dropout_4 (Dropout)          (None, 11, 12, 12, 64)    0         \n",
      "_________________________________________________________________\n",
      "conv3d_5 (Conv3D)            (None, 11, 12, 12, 128)   221312    \n",
      "_________________________________________________________________\n",
      "activation_5 (Activation)    (None, 11, 12, 12, 128)   0         \n",
      "_________________________________________________________________\n",
      "batch_normalization_5 (Batch (None, 11, 12, 12, 128)   512       \n",
      "_________________________________________________________________\n",
      "max_pooling3d_4 (MaxPooling3 (None, 9, 5, 5, 128)      0         \n",
      "_________________________________________________________________\n",
      "dropout_5 (Dropout)          (None, 9, 5, 5, 128)      0         \n",
      "_________________________________________________________________\n",
      "flatten_1 (Flatten)          (None, 28800)             0         \n",
      "_________________________________________________________________\n",
      "dense_1 (Dense)              (None, 128)               3686528   \n",
      "_________________________________________________________________\n",
      "dropout_6 (Dropout)          (None, 128)               0         \n",
      "_________________________________________________________________\n",
      "batch_normalization_6 (Batch (None, 128)               512       \n",
      "_________________________________________________________________\n",
      "dense_2 (Dense)              (None, 256)               33024     \n",
      "_________________________________________________________________\n",
      "dropout_7 (Dropout)          (None, 256)               0         \n",
      "_________________________________________________________________\n",
      "dense_3 (Dense)              (None, 5)                 1285      \n",
      "=================================================================\n",
      "Total params: 4,016,997\n",
      "Trainable params: 4,016,245\n",
      "Non-trainable params: 752\n",
      "_________________________________________________________________\n"
     ]
    }
   ],
   "source": [
    "from keras.models import Sequential, Model\n",
    "from keras.layers import Dense, GRU, Flatten, TimeDistributed, Flatten, BatchNormalization, Activation,Dropout\n",
    "from keras.layers.convolutional import Conv3D, MaxPooling3D\n",
    "from keras.callbacks import ModelCheckpoint, ReduceLROnPlateau\n",
    "from keras import optimizers\n",
    "from keras import regularizers\n",
    "\n",
    "model = Sequential()\n",
    "model.add(Conv3D(8, (3,3,3),  input_shape=(15,100,100,3) ,padding='same' ,kernel_initializer='he_normal',kernel_regularizer=regularizers.l2(0.01)))\n",
    "model.add(BatchNormalization())\n",
    "model.add(Activation('relu'))\n",
    "model.add(MaxPooling3D(pool_size=(2, 2, 2), strides=(1, 2, 2)))\n",
    "model.add(Dropout(0.2))\n",
    "\n",
    "model.add(Conv3D(16, (3,3,3), padding='same',kernel_initializer='he_normal',kernel_regularizer=regularizers.l2(0.01)))\n",
    "model.add(BatchNormalization())\n",
    "model.add(Activation('relu'))\n",
    "model.add(MaxPooling3D(pool_size=(2, 2, 2), strides=(1, 2, 2)))\n",
    "model.add(Dropout(0.2))\n",
    "\n",
    "model.add(Conv3D(32, (3,3,3), padding='same',kernel_initializer='he_normal',kernel_regularizer=regularizers.l2(0.01)))\n",
    "model.add(BatchNormalization())\n",
    "model.add(Activation('relu'))\n",
    "model.add(Dropout(0.2))\n",
    "\n",
    "model.add(Conv3D(64, (3,3,3), padding='same',kernel_initializer='he_normal',kernel_regularizer=regularizers.l2(0.01)))\n",
    "model.add(BatchNormalization())\n",
    "model.add(Activation('relu'))\n",
    "model.add(MaxPooling3D(pool_size=(3, 3, 3), strides=(1, 2, 2)))\n",
    "model.add(Dropout(0.2))\n",
    "\n",
    "\n",
    "model.add(Conv3D(128, (3,3,3), padding='same',kernel_initializer='he_normal',kernel_regularizer=regularizers.l2(0.01)))\n",
    "model.add(Activation('relu'))\n",
    "model.add(BatchNormalization())\n",
    "model.add(MaxPooling3D(pool_size=(3,3,3), strides=(1, 2, 2)))\n",
    "model.add(Dropout(0.5))\n",
    "\n",
    "# model.add(Conv3D(256, (3,3,3),padding='same'))\n",
    "# model.add(Activation('relu'))\n",
    "# model.add(BatchNormalization())\n",
    "# model.add(MaxPooling3D(pool_size=(2, 2, 2), strides=(1, 2, 2)))\n",
    "\n",
    "# model.add(Conv3D(1024, (1,1,1), activation='relu'))\n",
    "# model.add(BatchNormalization())\n",
    "# model.add(Conv3D(128, (1,1,1), activation='relu'))\n",
    "# model.add(MaxPooling3D(pool_size=(1, 2, 2), strides=(1, 2, 2)))\n",
    "\n",
    "# model.add(BatchNormalization())\n",
    "# model.add(Conv3D(128, (2,2,2), activation='relu'))\n",
    "# model.add(MaxPooling3D(pool_size=(1, 2, 2), strides=(1, 1, 1)))\n",
    "# model.add(BatchNormalization())\n",
    "# model.add(Conv3D(256, (2,2,2), activation='relu'))\n",
    "# model.add(MaxPooling3D(pool_size=(1, 2, 2), strides=(1, 1, 1)))\n",
    "\n",
    "model.add(Flatten())\n",
    "model.add(Dense(128,kernel_initializer='he_normal',kernel_regularizer=regularizers.l2(0.01)))\n",
    "model.add(Dropout(0.25))\n",
    "\n",
    "model.add(BatchNormalization())\n",
    "model.add(Dense(256,kernel_initializer='he_normal',kernel_regularizer=regularizers.l2(0.01)))\n",
    "model.add(Dropout(0.5))\n",
    "\n",
    "model.add(Dense(5, activation='softmax' ,kernel_regularizer=regularizers.l2(0.01)))\n",
    "model.summary()"
   ]
  },
  {
   "cell_type": "markdown",
   "metadata": {},
   "source": [
    "Now that you have written the model, the next step is to `compile` the model. When you print the `summary` of the model, you'll see the total number of parameters you have to train."
   ]
  },
  {
   "cell_type": "code",
   "execution_count": 17,
   "metadata": {
    "scrolled": true
   },
   "outputs": [],
   "source": [
    "#optimiser = optimizers.SGD(lr=0.001,momentum=0.9)#write your optimizer\n",
    "optimiser = optimizers.Adam(lr=0.001, beta_1=0.9, beta_2=0.999, amsgrad=False)\n",
    "model.compile(optimizer=optimiser, loss='categorical_crossentropy', metrics=['categorical_accuracy'])\n"
   ]
  },
  {
   "cell_type": "markdown",
   "metadata": {},
   "source": [
    "Let us create the `train_generator` and the `val_generator` which will be used in `.fit_generator`."
   ]
  },
  {
   "cell_type": "code",
   "execution_count": 18,
   "metadata": {},
   "outputs": [],
   "source": [
    "train_generator = generator(train_path, train_doc, batch_size,1,True)\n",
    "val_generator = generator(val_path, val_doc, batch_size,1)"
   ]
  },
  {
   "cell_type": "code",
   "execution_count": 19,
   "metadata": {},
   "outputs": [],
   "source": [
    "model_name = 'model_init' + '_' + str(curr_dt_time).replace(' ','').replace(':','_') + '/'\n",
    "    \n",
    "if not os.path.exists(model_name):\n",
    "    os.mkdir(model_name)\n",
    "        \n",
    "filepath = model_name + 'model-{epoch:05d}-{loss:.5f}-{categorical_accuracy:.5f}-{val_loss:.5f}-{val_categorical_accuracy:.5f}.h5'\n",
    "\n",
    "checkpoint = ModelCheckpoint(filepath, monitor='val_loss', verbose=1, save_best_only=True, save_weights_only=False, mode='auto', period=1)\n",
    "\n",
    "LR = ReduceLROnPlateau(monitor='val_loss', factor=0.2,\n",
    "                              patience=2, min_lr=0.000001) # write the REducelronplateau code here\n",
    "callbacks_list = [checkpoint,LR]"
   ]
  },
  {
   "cell_type": "markdown",
   "metadata": {},
   "source": [
    "The `steps_per_epoch` and `validation_steps` are used by `fit_generator` to decide the number of next() calls it need to make."
   ]
  },
  {
   "cell_type": "code",
   "execution_count": 20,
   "metadata": {},
   "outputs": [],
   "source": [
    "if (num_train_sequences%batch_size) == 0:\n",
    "    steps_per_epoch = int(num_train_sequences/batch_size)\n",
    "else:\n",
    "    steps_per_epoch = (num_train_sequences//batch_size) + 1\n",
    "\n",
    "if (num_val_sequences%batch_size) == 0:\n",
    "    validation_steps = int(num_val_sequences/batch_size)\n",
    "else:\n",
    "    validation_steps = (num_val_sequences//batch_size) + 1"
   ]
  },
  {
   "cell_type": "code",
   "execution_count": 21,
   "metadata": {},
   "outputs": [],
   "source": [
    "#model.load_weights(\"model_init_2020-02-0904_12_53.123999/model-00060-1.32184-0.73906-1.20795-0.78000.h5\", by_name=False)"
   ]
  },
  {
   "cell_type": "markdown",
   "metadata": {},
   "source": [
    "Let us now fit the model. This will start training the model and with the help of the checkpoints, you'll be able to save the model at the end of each epoch."
   ]
  },
  {
   "cell_type": "code",
   "execution_count": null,
   "metadata": {
    "scrolled": true
   },
   "outputs": [
    {
     "name": "stdout",
     "output_type": "stream",
     "text": [
      "Source path =  Project_data/val ; batch size = 32\n",
      "Source path =  Project_data/train ; batch size = 32\n",
      "Epoch 1/70\n",
      "Remaining folders are 4\n",
      "Remaining folders are 4\n",
      "19/21 [==========================>...] - ETA: 13s - loss: 16.3429 - categorical_accuracy: 0.2319Remaining folders are 23\n",
      "21/21 [==============================] - 143s 7s/step - loss: 16.1657 - categorical_accuracy: 0.2291 - val_loss: 16.1210 - val_categorical_accuracy: 0.1700\n",
      "\n",
      "Epoch 00001: val_loss improved from inf to 16.12101, saving model to model_init_2020-02-1001_12_36.037942/model-00001-16.20597-0.22926-16.12101-0.17000.h5\n",
      "Epoch 2/70\n",
      " 1/21 [>.............................] - ETA: 12s - loss: 16.5999 - categorical_accuracy: 0.1562Remaining folders are 4\n",
      "19/21 [==========================>...] - ETA: 4s - loss: 15.6454 - categorical_accuracy: 0.2763Remaining folders are 23\n",
      "21/21 [==============================] - 49s 2s/step - loss: 15.4986 - categorical_accuracy: 0.2788 - val_loss: 15.1639 - val_categorical_accuracy: 0.1600\n",
      "\n",
      "Epoch 00002: val_loss improved from 16.12101 to 15.16387, saving model to model_init_2020-02-1001_12_36.037942/model-00002-15.53037-0.27903-15.16387-0.16000.h5\n",
      "Epoch 3/70\n",
      "Remaining folders are 4\n",
      "19/21 [==========================>...] - ETA: 4s - loss: 14.5287 - categorical_accuracy: 0.2763Remaining folders are 23\n",
      "21/21 [==============================] - 51s 2s/step - loss: 14.4180 - categorical_accuracy: 0.2688 - val_loss: 13.3402 - val_categorical_accuracy: 0.2900\n",
      "\n",
      "Epoch 00003: val_loss improved from 15.16387 to 13.34023, saving model to model_init_2020-02-1001_12_36.037942/model-00003-14.44510-0.26998-13.34023-0.29000.h5\n",
      "Epoch 4/70\n",
      "Remaining folders are 4\n",
      "19/21 [==========================>...] - ETA: 4s - loss: 13.4879 - categorical_accuracy: 0.3026Remaining folders are 23\n",
      "21/21 [==============================] - 50s 2s/step - loss: 13.3650 - categorical_accuracy: 0.2946 - val_loss: 12.2443 - val_categorical_accuracy: 0.3200\n",
      "\n",
      "Epoch 00004: val_loss improved from 13.34023 to 12.24428, saving model to model_init_2020-02-1001_12_36.037942/model-00004-13.39451-0.29563-12.24428-0.32000.h5\n",
      "Epoch 5/70\n",
      "Remaining folders are 4\n",
      "19/21 [==========================>...] - ETA: 4s - loss: 12.5360 - categorical_accuracy: 0.3026Remaining folders are 23\n",
      "21/21 [==============================] - 48s 2s/step - loss: 12.4327 - categorical_accuracy: 0.2987 - val_loss: 11.5532 - val_categorical_accuracy: 0.2200\n",
      "\n",
      "Epoch 00005: val_loss improved from 12.24428 to 11.55319, saving model to model_init_2020-02-1001_12_36.037942/model-00005-12.45678-0.29864-11.55319-0.22000.h5\n",
      "Epoch 6/70\n",
      "Remaining folders are 4\n",
      "19/21 [==========================>...] - ETA: 4s - loss: 11.4085 - categorical_accuracy: 0.3322Remaining folders are 23\n",
      "21/21 [==============================] - 49s 2s/step - loss: 11.3014 - categorical_accuracy: 0.3209 - val_loss: 11.3534 - val_categorical_accuracy: 0.1800\n",
      "\n",
      "Epoch 00006: val_loss improved from 11.55319 to 11.35340, saving model to model_init_2020-02-1001_12_36.037942/model-00006-11.32545-0.32278-11.35340-0.18000.h5\n",
      "Epoch 7/70\n",
      "Remaining folders are 4\n",
      "19/21 [==========================>...] - ETA: 4s - loss: 10.6061 - categorical_accuracy: 0.3158Remaining folders are 23\n",
      "21/21 [==============================] - 50s 2s/step - loss: 10.5187 - categorical_accuracy: 0.3064 - val_loss: 10.3520 - val_categorical_accuracy: 0.1600\n",
      "\n",
      "Epoch 00007: val_loss improved from 11.35340 to 10.35204, saving model to model_init_2020-02-1001_12_36.037942/model-00007-10.53834-0.30920-10.35204-0.16000.h5\n",
      "Epoch 8/70\n",
      "Remaining folders are 4\n",
      "19/21 [==========================>...] - ETA: 4s - loss: 9.9684 - categorical_accuracy: 0.3421Remaining folders are 23\n",
      "21/21 [==============================] - 50s 2s/step - loss: 9.8701 - categorical_accuracy: 0.3464 - val_loss: 9.3258 - val_categorical_accuracy: 0.3100\n",
      "\n",
      "Epoch 00008: val_loss improved from 10.35204 to 9.32581, saving model to model_init_2020-02-1001_12_36.037942/model-00008-9.89016-0.34691-9.32581-0.31000.h5\n",
      "Epoch 9/70\n",
      "Remaining folders are 4\n",
      " 1/21 [>.............................] - ETA: 49s - loss: 9.7047 - categorical_accuracy: 0.3125"
     ]
    }
   ],
   "source": [
    "model.fit_generator(train_generator, steps_per_epoch=steps_per_epoch, epochs=num_epochs, verbose=1, \n",
    "                     validation_data=val_generator, \n",
    "                    validation_steps=validation_steps, class_weight=None, workers=1, initial_epoch=0 ,callbacks = callbacks_list)"
   ]
  },
  {
   "cell_type": "markdown",
   "metadata": {},
   "source": [
    "#### Results:\n",
    "Epochs : 60\n",
    "Model size : 48 MB\n",
    "Training accuracy - 81\n",
    "Validation accuracy - 79"
   ]
  },
  {
   "cell_type": "code",
   "execution_count": null,
   "metadata": {},
   "outputs": [],
   "source": []
  }
 ],
 "metadata": {
  "kernelspec": {
   "display_name": "Python 3",
   "language": "python",
   "name": "python3"
  },
  "language_info": {
   "codemirror_mode": {
    "name": "ipython",
    "version": 3
   },
   "file_extension": ".py",
   "mimetype": "text/x-python",
   "name": "python",
   "nbconvert_exporter": "python",
   "pygments_lexer": "ipython3",
   "version": "3.7.3"
  }
 },
 "nbformat": 4,
 "nbformat_minor": 2
}
